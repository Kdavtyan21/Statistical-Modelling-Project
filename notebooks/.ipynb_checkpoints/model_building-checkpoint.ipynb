{
 "cells": [
  {
   "cell_type": "markdown",
   "metadata": {},
   "source": [
    "Build a regression model."
   ]
  },
  {
   "cell_type": "code",
   "execution_count": 43,
   "metadata": {},
   "outputs": [
    {
     "name": "stdout",
     "output_type": "stream",
     "text": [
      "    latitude  longitude  places_around\n",
      "0      39.30       9.00              6\n",
      "1      39.26       9.15              0\n",
      "2      39.29       9.00              6\n",
      "3      39.26       9.14              0\n",
      "4      39.25       9.13              0\n",
      "5      39.27       9.05              0\n",
      "6      39.29       9.00              6\n",
      "7      39.29       9.01              1\n",
      "8      39.29       8.99              2\n",
      "9      39.25       9.17              0\n",
      "10     39.26       9.05              0\n",
      "11     39.29       8.99              0\n",
      "12     39.29       9.01              0\n",
      "13     39.30       9.00              0\n",
      "14     39.29       8.99              0\n",
      "15     39.30       9.00              0\n",
      "16     39.30       9.00              0\n",
      "17     39.30       9.00              0\n",
      "18     39.30       9.00              0\n",
      "19     39.29       9.00              0\n",
      "20     39.29       9.00              0\n",
      "21     39.29       9.00              0\n",
      "22     39.29       9.00              0\n",
      "23     39.30       9.00              0\n",
      "24     39.29       9.00              0\n",
      "0     4\n",
      "1     5\n",
      "2     0\n",
      "3     0\n",
      "4     0\n",
      "5     3\n",
      "6     0\n",
      "7     1\n",
      "8     4\n",
      "9     6\n",
      "10    4\n",
      "11    4\n",
      "12    1\n",
      "13    4\n",
      "14    4\n",
      "15    4\n",
      "16    4\n",
      "17    4\n",
      "18    4\n",
      "19    0\n",
      "20    0\n",
      "21    0\n",
      "22    0\n",
      "23    4\n",
      "24    0\n",
      "Name: free Bikes, dtype: int64\n"
     ]
    }
   ],
   "source": [
    "# import numpy\n",
    "import numpy as np\n",
    "import pandas as pd\n",
    "from sklearn import linear_model, datasets\n",
    "import statsmodels.api as sm\n",
    "\n",
    "df = pd.read_excel('dataframe_reg.xlsx')\n",
    "y = df['free Bikes']\n",
    "X = df[['latitude', 'longitude', 'places_around']]\n",
    "print(X)\n",
    "print(y)"
   ]
  },
  {
   "cell_type": "markdown",
   "metadata": {},
   "source": [
    "Provide model output and an interpretation of the results. "
   ]
  },
  {
   "cell_type": "code",
   "execution_count": 31,
   "metadata": {},
   "outputs": [
    {
     "name": "stdout",
     "output_type": "stream",
     "text": [
      "                            OLS Regression Results                            \n",
      "==============================================================================\n",
      "Dep. Variable:             free Bikes   R-squared:                       0.131\n",
      "Model:                            OLS   Adj. R-squared:                  0.007\n",
      "Method:                 Least Squares   F-statistic:                     1.057\n",
      "Date:                Mon, 12 Aug 2024   Prob (F-statistic):              0.388\n",
      "Time:                        13:09:32   Log-Likelihood:                -51.535\n",
      "No. Observations:                  25   AIC:                             111.1\n",
      "Df Residuals:                      21   BIC:                             115.9\n",
      "Df Model:                           3                                         \n",
      "Covariance Type:            nonrobust                                         \n",
      "=================================================================================\n",
      "                    coef    std err          t      P>|t|      [0.025      0.975]\n",
      "---------------------------------------------------------------------------------\n",
      "const         -3846.4079   2587.388     -1.487      0.152   -9227.176    1534.360\n",
      "latitude         91.4826     62.050      1.474      0.155     -37.558     220.523\n",
      "longitude        28.2517     18.220      1.551      0.136      -9.639      66.142\n",
      "places_around    -0.1645      0.218     -0.756      0.458      -0.617       0.288\n",
      "==============================================================================\n",
      "Omnibus:                        7.893   Durbin-Watson:                   1.059\n",
      "Prob(Omnibus):                  0.019   Jarque-Bera (JB):                2.046\n",
      "Skew:                          -0.110   Prob(JB):                        0.360\n",
      "Kurtosis:                       1.616   Cond. No.                     2.52e+05\n",
      "==============================================================================\n",
      "\n",
      "Notes:\n",
      "[1] Standard Errors assume that the covariance matrix of the errors is correctly specified.\n",
      "[2] The condition number is large, 2.52e+05. This might indicate that there are\n",
      "strong multicollinearity or other numerical problems.\n"
     ]
    }
   ],
   "source": [
    "X = sm.add_constant(X) # adding a constant\n",
    "lin_reg = sm.OLS(y,X)\n",
    "model = lin_reg.fit()\n",
    "print_model = model.summary()\n",
    "print(print_model)"
   ]
  },
  {
   "cell_type": "markdown",
   "metadata": {},
   "source": [
    "After checking Adj. R-squared value and seeing that model explaing only 0.7% of the variations in the data, I checked which value of coef and P>|t| and saw that places_around value in both was margianlly different from others, p-value of places_around was way past the 0.05 threshold meaning that the column is better to be left out from the model for better anaysis\n"
   ]
  },
  {
   "cell_type": "code",
   "execution_count": 33,
   "metadata": {},
   "outputs": [
    {
     "name": "stdout",
     "output_type": "stream",
     "text": [
      "                            OLS Regression Results                            \n",
      "==============================================================================\n",
      "Dep. Variable:             free Bikes   R-squared:                       0.108\n",
      "Model:                            OLS   Adj. R-squared:                  0.026\n",
      "Method:                 Least Squares   F-statistic:                     1.325\n",
      "Date:                Mon, 12 Aug 2024   Prob (F-statistic):              0.286\n",
      "Time:                        13:18:21   Log-Likelihood:                -51.870\n",
      "No. Observations:                  25   AIC:                             109.7\n",
      "Df Residuals:                      22   BIC:                             113.4\n",
      "Df Model:                           2                                         \n",
      "Covariance Type:            nonrobust                                         \n",
      "==============================================================================\n",
      "                 coef    std err          t      P>|t|      [0.025      0.975]\n",
      "------------------------------------------------------------------------------\n",
      "const      -3820.5749   2561.838     -1.491      0.150   -9133.503    1492.353\n",
      "latitude      90.5831     61.431      1.475      0.155     -36.818     217.984\n",
      "longitude     29.2890     17.990      1.628      0.118      -8.021      66.599\n",
      "==============================================================================\n",
      "Omnibus:                       10.004   Durbin-Watson:                   1.110\n",
      "Prob(Omnibus):                  0.007   Jarque-Bera (JB):                2.235\n",
      "Skew:                          -0.095   Prob(JB):                        0.327\n",
      "Kurtosis:                       1.548   Cond. No.                     2.52e+05\n",
      "==============================================================================\n",
      "\n",
      "Notes:\n",
      "[1] Standard Errors assume that the covariance matrix of the errors is correctly specified.\n",
      "[2] The condition number is large, 2.52e+05. This might indicate that there are\n",
      "strong multicollinearity or other numerical problems.\n"
     ]
    }
   ],
   "source": [
    "# removing the column with the highest P>t value\n",
    "y = df['free Bikes']\n",
    "X = df[['latitude', 'longitude']]\n",
    "X = sm.add_constant(X) # adding a constant\n",
    "lin_reg = sm.OLS(y,X)\n",
    "model = lin_reg.fit()\n",
    "print_model = model.summary()\n",
    "print(print_model)"
   ]
  },
  {
   "cell_type": "markdown",
   "metadata": {},
   "source": [
    "This regression model Adj. R-squared is better but still not good enough. At 2.6%, which means that the model is not very effective at explaining the variation in the number of free bikes."
   ]
  },
  {
   "cell_type": "code",
   "execution_count": 37,
   "metadata": {},
   "outputs": [
    {
     "name": "stdout",
     "output_type": "stream",
     "text": [
      "                                 OLS Regression Results                                \n",
      "=======================================================================================\n",
      "Dep. Variable:             free Bikes   R-squared (uncentered):                   0.581\n",
      "Model:                            OLS   Adj. R-squared (uncentered):              0.564\n",
      "Method:                 Least Squares   F-statistic:                              33.34\n",
      "Date:                Mon, 12 Aug 2024   Prob (F-statistic):                    5.95e-06\n",
      "Time:                        13:28:01   Log-Likelihood:                         -53.268\n",
      "No. Observations:                  25   AIC:                                      108.5\n",
      "Df Residuals:                      24   BIC:                                      109.8\n",
      "Df Model:                           1                                                  \n",
      "Covariance Type:            nonrobust                                                  \n",
      "==============================================================================\n",
      "                 coef    std err          t      P>|t|      [0.025      0.975]\n",
      "------------------------------------------------------------------------------\n",
      "longitude      0.2660      0.046      5.774      0.000       0.171       0.361\n",
      "==============================================================================\n",
      "Omnibus:                       19.882   Durbin-Watson:                   1.227\n",
      "Prob(Omnibus):                  0.000   Jarque-Bera (JB):                2.860\n",
      "Skew:                          -0.104   Prob(JB):                        0.239\n",
      "Kurtosis:                       1.356   Cond. No.                         1.00\n",
      "==============================================================================\n",
      "\n",
      "Notes:\n",
      "[1] R² is computed without centering (uncentered) since the model does not contain a constant.\n",
      "[2] Standard Errors assume that the covariance matrix of the errors is correctly specified.\n"
     ]
    }
   ],
   "source": [
    "y = df['free Bikes']\n",
    "X = df['longitude']\n",
    "X = sm.add_constant(X) # adding a constant\n",
    "lin_reg = sm.OLS(y,X['longitude'])\n",
    "model = lin_reg.fit()\n",
    "print_model = model.summary()\n",
    "print(print_model)"
   ]
  },
  {
   "cell_type": "markdown",
   "metadata": {},
   "source": [
    "I went with longitude rather than with latitude because it was closer to p-value threshold, even if not that significantly closer. This models R-squared is 0.581 which means that 58.1% "
   ]
  },
  {
   "cell_type": "code",
   "execution_count": 51,
   "metadata": {},
   "outputs": [
    {
     "name": "stdout",
     "output_type": "stream",
     "text": [
      "                                 OLS Regression Results                                \n",
      "=======================================================================================\n",
      "Dep. Variable:             free Bikes   R-squared (uncentered):                   0.581\n",
      "Model:                            OLS   Adj. R-squared (uncentered):              0.563\n",
      "Method:                 Least Squares   F-statistic:                              33.23\n",
      "Date:                Mon, 12 Aug 2024   Prob (F-statistic):                    6.10e-06\n",
      "Time:                        13:50:46   Log-Likelihood:                         -53.292\n",
      "No. Observations:                  25   AIC:                                      108.6\n",
      "Df Residuals:                      24   BIC:                                      109.8\n",
      "Df Model:                           1                                                  \n",
      "Covariance Type:            nonrobust                                                  \n",
      "==============================================================================\n",
      "                 coef    std err          t      P>|t|      [0.025      0.975]\n",
      "------------------------------------------------------------------------------\n",
      "latitude       0.0611      0.011      5.765      0.000       0.039       0.083\n",
      "==============================================================================\n",
      "Omnibus:                       18.916   Durbin-Watson:                   1.231\n",
      "Prob(Omnibus):                  0.000   Jarque-Bera (JB):                2.808\n",
      "Skew:                          -0.096   Prob(JB):                        0.246\n",
      "Kurtosis:                       1.369   Cond. No.                         1.00\n",
      "==============================================================================\n",
      "\n",
      "Notes:\n",
      "[1] R² is computed without centering (uncentered) since the model does not contain a constant.\n",
      "[2] Standard Errors assume that the covariance matrix of the errors is correctly specified.\n"
     ]
    }
   ],
   "source": [
    "y = df['free Bikes']\n",
    "X = df['latitude']\n",
    "X = sm.add_constant(X) # adding a constant\n",
    "lin_reg = sm.OLS(y,X['latitude'])\n",
    "model = lin_reg.fit()\n",
    "print_model = model.summary()\n",
    "print(print_model)"
   ]
  },
  {
   "cell_type": "markdown",
   "metadata": {},
   "source": [
    "# Stretch"
   ]
  },
  {
   "cell_type": "markdown",
   "metadata": {},
   "source": [
    "How can you turn the regression model into a classification model?"
   ]
  },
  {
   "cell_type": "code",
   "execution_count": null,
   "metadata": {},
   "outputs": [],
   "source": []
  }
 ],
 "metadata": {
  "kernelspec": {
   "display_name": "Python 3 (ipykernel)",
   "language": "python",
   "name": "python3"
  },
  "language_info": {
   "codemirror_mode": {
    "name": "ipython",
    "version": 3
   },
   "file_extension": ".py",
   "mimetype": "text/x-python",
   "name": "python",
   "nbconvert_exporter": "python",
   "pygments_lexer": "ipython3",
   "version": "3.11.7"
  }
 },
 "nbformat": 4,
 "nbformat_minor": 4
}
