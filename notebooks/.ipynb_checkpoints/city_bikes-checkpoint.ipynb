{
 "cells": [
  {
   "cell_type": "markdown",
   "metadata": {},
   "source": [
    "# CityBikes"
   ]
  },
  {
   "cell_type": "markdown",
   "metadata": {},
   "source": [
    "Send a request to CityBikes for the city of your choice. "
   ]
  },
  {
   "cell_type": "code",
   "execution_count": 92,
   "metadata": {},
   "outputs": [],
   "source": [
    "import requests\n",
    "import pandas as pd\n",
    "URL = \"http://api.citybik.es/v2/networks/\"\n",
    "city = \"bicincitta-assemini\"\n",
    "# sending get request and saving the response as response object\n",
    "\n",
    "r = requests.get(url = URL+city)\n",
    " \n",
    "# extracting data in json format\n",
    "data = r.json()"
   ]
  },
  {
   "cell_type": "markdown",
   "metadata": {},
   "source": [
    "Parse through the response to get the details you want for the bike stations in that city (latitude, longitude, number of bikes). "
   ]
  },
  {
   "cell_type": "code",
   "execution_count": 146,
   "metadata": {},
   "outputs": [
    {
     "name": "stdout",
     "output_type": "stream",
     "text": [
      "Free Bikes 4 at lat: 39.29602074930409 and long: 9.00176112289273\n",
      "Free Bikes 5 at lat: 39.25848012292418 and long: 9.153467416763307\n",
      "Free Bikes 0 at lat: 39.2873253 and long: 9.0048934\n",
      "Free Bikes 5 at lat: 39.2591664 and long: 9.137640384205659\n",
      "Free Bikes 0 at lat: 39.25413941022602 and long: 9.132728576660158\n",
      "Free Bikes 3 at lat: 39.270203 and long: 9.0490639\n",
      "Free Bikes 0 at lat: 39.28778639756511 and long: 8.997802734375002\n",
      "Free Bikes 1 at lat: 39.28945545215369 and long: 9.006498456001284\n",
      "Free Bikes 3 at lat: 39.294014010485164 and long: 8.990276455879213\n",
      "Free Bikes 6 at lat: 39.254039716059765 and long: 9.16515111923218\n",
      "Free Bikes 4 at lat: 39.2648967 and long: 9.0457391\n"
     ]
    },
    {
     "data": {
      "text/plain": [
       "'Assemini'"
      ]
     },
     "execution_count": 146,
     "metadata": {},
     "output_type": "execute_result"
    }
   ],
   "source": [
    "#Available bikes in specific stations\n",
    "\n",
    "for stations in data[\"network\"][\"stations\"]:\n",
    "    print(\"Free Bikes \" + str(stations[\"free_bikes\"]) + \" at lat: \" + str(stations[\"latitude\"]) + \" and long: \" + str(stations[\"longitude\"]))"
   ]
  },
  {
   "cell_type": "markdown",
   "metadata": {},
   "source": [
    "Put your parsed results into a DataFrame."
   ]
  },
  {
   "cell_type": "code",
   "execution_count": 152,
   "metadata": {},
   "outputs": [
    {
     "data": {
      "text/html": [
       "<div>\n",
       "<style scoped>\n",
       "    .dataframe tbody tr th:only-of-type {\n",
       "        vertical-align: middle;\n",
       "    }\n",
       "\n",
       "    .dataframe tbody tr th {\n",
       "        vertical-align: top;\n",
       "    }\n",
       "\n",
       "    .dataframe thead th {\n",
       "        text-align: right;\n",
       "    }\n",
       "</style>\n",
       "<table border=\"1\" class=\"dataframe\">\n",
       "  <thead>\n",
       "    <tr style=\"text-align: right;\">\n",
       "      <th></th>\n",
       "      <th>City</th>\n",
       "      <th>Free Bikes</th>\n",
       "      <th>Latitude</th>\n",
       "      <th>Longitude</th>\n",
       "    </tr>\n",
       "  </thead>\n",
       "  <tbody>\n",
       "    <tr>\n",
       "      <th>0</th>\n",
       "      <td>Assemini</td>\n",
       "      <td>4</td>\n",
       "      <td>39.296021</td>\n",
       "      <td>9.001761</td>\n",
       "    </tr>\n",
       "    <tr>\n",
       "      <th>1</th>\n",
       "      <td>Assemini</td>\n",
       "      <td>5</td>\n",
       "      <td>39.258480</td>\n",
       "      <td>9.153467</td>\n",
       "    </tr>\n",
       "    <tr>\n",
       "      <th>2</th>\n",
       "      <td>Assemini</td>\n",
       "      <td>0</td>\n",
       "      <td>39.287325</td>\n",
       "      <td>9.004893</td>\n",
       "    </tr>\n",
       "    <tr>\n",
       "      <th>3</th>\n",
       "      <td>Assemini</td>\n",
       "      <td>5</td>\n",
       "      <td>39.259166</td>\n",
       "      <td>9.137640</td>\n",
       "    </tr>\n",
       "    <tr>\n",
       "      <th>4</th>\n",
       "      <td>Assemini</td>\n",
       "      <td>0</td>\n",
       "      <td>39.254139</td>\n",
       "      <td>9.132729</td>\n",
       "    </tr>\n",
       "    <tr>\n",
       "      <th>5</th>\n",
       "      <td>Assemini</td>\n",
       "      <td>3</td>\n",
       "      <td>39.270203</td>\n",
       "      <td>9.049064</td>\n",
       "    </tr>\n",
       "    <tr>\n",
       "      <th>6</th>\n",
       "      <td>Assemini</td>\n",
       "      <td>0</td>\n",
       "      <td>39.287786</td>\n",
       "      <td>8.997803</td>\n",
       "    </tr>\n",
       "    <tr>\n",
       "      <th>7</th>\n",
       "      <td>Assemini</td>\n",
       "      <td>1</td>\n",
       "      <td>39.289455</td>\n",
       "      <td>9.006498</td>\n",
       "    </tr>\n",
       "    <tr>\n",
       "      <th>8</th>\n",
       "      <td>Assemini</td>\n",
       "      <td>3</td>\n",
       "      <td>39.294014</td>\n",
       "      <td>8.990276</td>\n",
       "    </tr>\n",
       "    <tr>\n",
       "      <th>9</th>\n",
       "      <td>Assemini</td>\n",
       "      <td>6</td>\n",
       "      <td>39.254040</td>\n",
       "      <td>9.165151</td>\n",
       "    </tr>\n",
       "    <tr>\n",
       "      <th>10</th>\n",
       "      <td>Assemini</td>\n",
       "      <td>4</td>\n",
       "      <td>39.264897</td>\n",
       "      <td>9.045739</td>\n",
       "    </tr>\n",
       "  </tbody>\n",
       "</table>\n",
       "</div>"
      ],
      "text/plain": [
       "        City  Free Bikes   Latitude  Longitude\n",
       "0   Assemini           4  39.296021   9.001761\n",
       "1   Assemini           5  39.258480   9.153467\n",
       "2   Assemini           0  39.287325   9.004893\n",
       "3   Assemini           5  39.259166   9.137640\n",
       "4   Assemini           0  39.254139   9.132729\n",
       "5   Assemini           3  39.270203   9.049064\n",
       "6   Assemini           0  39.287786   8.997803\n",
       "7   Assemini           1  39.289455   9.006498\n",
       "8   Assemini           3  39.294014   8.990276\n",
       "9   Assemini           6  39.254040   9.165151\n",
       "10  Assemini           4  39.264897   9.045739"
      ]
     },
     "execution_count": 152,
     "metadata": {},
     "output_type": "execute_result"
    }
   ],
   "source": [
    "stations_data = []\n",
    "for station in data[\"network\"][\"stations\"]:\n",
    "    station_info = {\n",
    "        \"City\": data[\"network\"][\"location\"][\"city\"],\n",
    "        \"Free Bikes\": station[\"free_bikes\"],\n",
    "        \"Latitude\": station[\"latitude\"],\n",
    "        \"Longitude\": station[\"longitude\"]\n",
    "    }\n",
    "    stations_data.append(station_info)\n",
    "stations_data\n",
    "# Create a DataFrame from the list of dictionaries\n",
    "df = pd.DataFrame(stations_data)\n",
    "\n",
    "# Display the DataFrame\n",
    "df"
   ]
  },
  {
   "cell_type": "code",
   "execution_count": null,
   "metadata": {},
   "outputs": [],
   "source": []
  }
 ],
 "metadata": {
  "kernelspec": {
   "display_name": "Python 3 (ipykernel)",
   "language": "python",
   "name": "python3"
  },
  "language_info": {
   "codemirror_mode": {
    "name": "ipython",
    "version": 3
   },
   "file_extension": ".py",
   "mimetype": "text/x-python",
   "name": "python",
   "nbconvert_exporter": "python",
   "pygments_lexer": "ipython3",
   "version": "3.11.7"
  }
 },
 "nbformat": 4,
 "nbformat_minor": 4
}
