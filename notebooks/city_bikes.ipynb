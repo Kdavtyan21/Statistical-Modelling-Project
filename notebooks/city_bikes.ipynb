{
 "cells": [
  {
   "cell_type": "markdown",
   "metadata": {},
   "source": [
    "# CityBikes"
   ]
  },
  {
   "cell_type": "markdown",
   "metadata": {},
   "source": [
    "Send a request to CityBikes for the city of your choice. "
   ]
  },
  {
   "cell_type": "code",
   "execution_count": 3,
   "metadata": {},
   "outputs": [],
   "source": [
    "import requests\n",
    "import pandas as pd\n",
    "URL = \"http://api.citybik.es/v2/networks/\"\n",
    "city = \"bicincitta-assemini\"\n",
    "# sending get request and saving the response as response object\n",
    "\n",
    "r = requests.get(url = URL+city)\n",
    " \n",
    "# extracting data in json format\n",
    "data = r.json()"
   ]
  },
  {
   "cell_type": "markdown",
   "metadata": {},
   "source": [
    "Parse through the response to get the details you want for the bike stations in that city (latitude, longitude, number of bikes). "
   ]
  },
  {
   "cell_type": "code",
   "execution_count": 5,
   "metadata": {},
   "outputs": [
    {
     "name": "stdout",
     "output_type": "stream",
     "text": [
      "Free Bikes 4 at lat: 39.29602074930409 and long: 9.00176112289273\n",
      "Free Bikes 5 at lat: 39.25848012292418 and long: 9.153467416763307\n",
      "Free Bikes 0 at lat: 39.2873253 and long: 9.0048934\n",
      "Free Bikes 0 at lat: 39.2591664 and long: 9.137640384205659\n",
      "Free Bikes 0 at lat: 39.25413941022602 and long: 9.132728576660158\n",
      "Free Bikes 3 at lat: 39.270203 and long: 9.0490639\n",
      "Free Bikes 0 at lat: 39.28778639756511 and long: 8.997802734375002\n",
      "Free Bikes 1 at lat: 39.28945545215369 and long: 9.006498456001284\n",
      "Free Bikes 4 at lat: 39.294014010485164 and long: 8.990276455879213\n",
      "Free Bikes 6 at lat: 39.254039716059765 and long: 9.16515111923218\n",
      "Free Bikes 4 at lat: 39.2648967 and long: 9.0457391\n"
     ]
    }
   ],
   "source": [
    "#Available bikes in specific stations\n",
    "\n",
    "for stations in data[\"network\"][\"stations\"]:\n",
    "    print(\"Free Bikes \" + str(stations[\"free_bikes\"]) + \" at lat: \" + str(stations[\"latitude\"]) + \" and long: \" + str(stations[\"longitude\"]))"
   ]
  },
  {
   "cell_type": "markdown",
   "metadata": {},
   "source": [
    "Put your parsed results into a DataFrame."
   ]
  },
  {
   "cell_type": "code",
   "execution_count": null,
   "metadata": {},
   "outputs": [],
   "source": []
  },
  {
   "cell_type": "code",
   "execution_count": 7,
   "metadata": {},
   "outputs": [],
   "source": [
    "stations_data = []\n",
    "for station in data[\"network\"][\"stations\"]:\n",
    "    station_info = {\n",
    "        \"City\": data[\"network\"][\"location\"][\"city\"],\n",
    "        \"Free Bikes\": station[\"free_bikes\"],\n",
    "        \"Latitude\": station[\"latitude\"],\n",
    "        \"Longitude\": station[\"longitude\"]\n",
    "    }\n",
    "    stations_data.append(station_info)\n",
    "stations_data\n",
    "# Create a DataFrame from the list of dictionaries\n",
    "df = pd.DataFrame(stations_data)\n",
    "\n",
    "# Display the DataFrame\n",
    "df\n",
    "df.to_excel('dataframe.xlsx', index=False)"
   ]
  },
  {
   "cell_type": "code",
   "execution_count": null,
   "metadata": {},
   "outputs": [],
   "source": []
  }
 ],
 "metadata": {
  "kernelspec": {
   "display_name": "Python 3 (ipykernel)",
   "language": "python",
   "name": "python3"
  },
  "language_info": {
   "codemirror_mode": {
    "name": "ipython",
    "version": 3
   },
   "file_extension": ".py",
   "mimetype": "text/x-python",
   "name": "python",
   "nbconvert_exporter": "python",
   "pygments_lexer": "ipython3",
   "version": "3.11.7"
  }
 },
 "nbformat": 4,
 "nbformat_minor": 4
}
